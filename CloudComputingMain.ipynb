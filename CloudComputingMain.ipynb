{
  "nbformat": 4,
  "nbformat_minor": 0,
  "metadata": {
    "colab": {
      "provenance": []
    },
    "kernelspec": {
      "name": "python3",
      "display_name": "Python 3"
    },
    "language_info": {
      "name": "python"
    }
  },
  "cells": [
    {
      "cell_type": "code",
      "execution_count": 2,
      "metadata": {
        "colab": {
          "base_uri": "https://localhost:8080/"
        },
        "id": "H1krZkd5Oz5C",
        "outputId": "9210a086-8fde-4e3a-c4b6-811979942509"
      },
      "outputs": [
        {
          "output_type": "stream",
          "name": "stdout",
          "text": [
            "Collecting pyminizip\n",
            "  Downloading pyminizip-0.2.6.tar.gz (261 kB)\n",
            "\u001b[?25l     \u001b[90m━━━━━━━━━━━━━━━━━━━━━━━━━━━━━━━━━━━━━━━━\u001b[0m \u001b[32m0.0/261.2 kB\u001b[0m \u001b[31m?\u001b[0m eta \u001b[36m-:--:--\u001b[0m\r\u001b[2K     \u001b[91m━━━━━━━━━━━━━━━━━\u001b[0m\u001b[90m╺\u001b[0m\u001b[90m━━━━━━━━━━━━━━━━━━━━━━\u001b[0m \u001b[32m112.6/261.2 kB\u001b[0m \u001b[31m3.4 MB/s\u001b[0m eta \u001b[36m0:00:01\u001b[0m\r\u001b[2K     \u001b[90m━━━━━━━━━━━━━━━━━━━━━━━━━━━━━━━━━━━━━━━━\u001b[0m \u001b[32m261.2/261.2 kB\u001b[0m \u001b[31m4.1 MB/s\u001b[0m eta \u001b[36m0:00:00\u001b[0m\n",
            "\u001b[?25h  Preparing metadata (setup.py) ... \u001b[?25l\u001b[?25hdone\n",
            "Building wheels for collected packages: pyminizip\n",
            "  Building wheel for pyminizip (setup.py) ... \u001b[?25l\u001b[?25hdone\n",
            "  Created wheel for pyminizip: filename=pyminizip-0.2.6-cp310-cp310-linux_x86_64.whl size=207079 sha256=7147cccc15b9d6f3d61de28474bc489a9e9b3cd1277d72166259d39b6330f5f8\n",
            "  Stored in directory: /root/.cache/pip/wheels/ed/6c/ae/0ee601d1139f7ba48c1b572b04707f27427af5290e6fb7afb9\n",
            "Successfully built pyminizip\n",
            "Installing collected packages: pyminizip\n",
            "Successfully installed pyminizip-0.2.6\n"
          ]
        }
      ],
      "source": [
        "pip install pyminizip"
      ]
    },
    {
      "cell_type": "code",
      "source": [
        "import pyminizip\n",
        "from googleapiclient.discovery import build\n",
        "from google.oauth2 import service_account\n",
        "\n",
        "SCOPES = ['https://www.googleapis.com/auth/drive']\n",
        "SERVICE_ACCOUNT_FILE = '/content/service_api.json'\n",
        "\n",
        "PARENT_FOLDER_ID = \"16ZvRpj46VDYq_QldkWtRUZPeD4FEiRoa\"\n",
        "\n",
        "def authenticate():\n",
        "    creds = service_account.Credentials.from_service_account_file(SERVICE_ACCOUNT_FILE)\n",
        "    return creds\n",
        "\n",
        "def upload(file_path):\n",
        "    creds = authenticate()\n",
        "    service = build('drive', 'v3', credentials=creds)\n",
        "\n",
        "    file_metadata = {\n",
        "        'parents' : [PARENT_FOLDER_ID]\n",
        "    }\n",
        "\n",
        "    file = service.files().create(\n",
        "        body=file_metadata,\n",
        "        media_body=file_path\n",
        "    ).execute()\n",
        "def encryptionn(outp):\n",
        "    inpt = input(\"Enter file to be secured: \")\n",
        "    pref = None\n",
        "    filnm = input(\"Enter filename: \")\n",
        "    outp = \"./\"+filnm+\".zip\"\n",
        "    ch = int(input(\"Do you want custom password/default password ?(1/0): \"))\n",
        "    pwdd = None\n",
        "    if ch == 1:\n",
        "        pwdd = input(\"Enter Custom Password: \")\n",
        "    pwd = \"abc\"\n",
        "    comp_lv = 5\n",
        "    if pwdd is not None:\n",
        "        pyminizip.compress(inpt, pref, outp, pwdd, comp_lv)\n",
        "\n",
        "    else:\n",
        "        pyminizip.compress(inpt, pref, outp, pwd, comp_lv)\n",
        "    return outp\n",
        "upload(encryptionn(outp))"
      ],
      "metadata": {
        "colab": {
          "base_uri": "https://localhost:8080/"
        },
        "id": "GIXJ3unV34xP",
        "outputId": "f4b57434-dee4-4ca7-e523-a1d512e67af8"
      },
      "execution_count": 23,
      "outputs": [
        {
          "name": "stdout",
          "output_type": "stream",
          "text": [
            "Enter file to be secured: file.txt\n",
            "Enter filename: testt\n",
            "Do you want custom password/default password ?(1/0): 1\n",
            "Enter Custom Password: zxcvbnm\n"
          ]
        },
        {
          "output_type": "stream",
          "name": "stderr",
          "text": [
            "WARNING:googleapiclient.discovery:media_mime_type argument not specified: trying to auto-detect for ./testt.zip\n"
          ]
        }
      ]
    },
    {
      "cell_type": "code",
      "source": [
        "from googleapiclient.discovery import build\n",
        "from google.oauth2 import service_account\n",
        "\n",
        "SCOPES = ['https://www.googleapis.com/auth/drive']\n",
        "SERVICE_ACCOUNT_FILE = 'C:/Users/ar646/Desktop/Proj/CloudComputing/service_api.json'\n",
        "PARENT_FOLDER_ID = \"16ZvRpj46VDYq_QldkWtRUZPeD4FEiRoa\"\n",
        "\n",
        "def authenticate():\n",
        "    creds = service_account.Credentials.from_service_account_file(SERVICE_ACCOUNT_FILE)\n",
        "    return creds\n",
        "\n",
        "def upload(file_path):\n",
        "    creds = authenticate()\n",
        "    service = build('drive', 'v3', credentials=creds)\n",
        "\n",
        "    file_metadata = {\n",
        "        'parents' : [PARENT_FOLDER_ID]\n",
        "    }\n",
        "\n",
        "    file = service.files().create(\n",
        "        body=file_metadata,\n",
        "        media_body=file_path\n",
        "    ).execute()\n",
        "\n",
        "\n",
        "upload(\"test.zip\")"
      ],
      "metadata": {
        "id": "hsOWjPiY5lyX"
      },
      "execution_count": null,
      "outputs": []
    }
  ]
}