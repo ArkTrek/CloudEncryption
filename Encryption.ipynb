{
  "nbformat": 4,
  "nbformat_minor": 0,
  "metadata": {
    "colab": {
      "provenance": [],
      "authorship_tag": "ABX9TyNYIyVjFIGny+Br+Ds2A4vx",
      "include_colab_link": true
    },
    "kernelspec": {
      "name": "python3",
      "display_name": "Python 3"
    },
    "language_info": {
      "name": "python"
    }
  },
  "cells": [
    {
      "cell_type": "markdown",
      "metadata": {
        "id": "view-in-github",
        "colab_type": "text"
      },
      "source": [
        "<a href=\"https://colab.research.google.com/github/ArkTrek/CloudEncryption/blob/main/Encryption.ipynb\" target=\"_parent\"><img src=\"https://colab.research.google.com/assets/colab-badge.svg\" alt=\"Open In Colab\"/></a>"
      ]
    },
    {
      "cell_type": "code",
      "execution_count": null,
      "metadata": {
        "colab": {
          "base_uri": "https://localhost:8080/"
        },
        "id": "H1krZkd5Oz5C",
        "outputId": "2808be63-d38d-49a9-ef9c-035b24f006b8"
      },
      "outputs": [
        {
          "output_type": "stream",
          "name": "stdout",
          "text": [
            "Collecting pyminizip\n",
            "  Downloading pyminizip-0.2.6.tar.gz (261 kB)\n",
            "\u001b[?25l     \u001b[90m━━━━━━━━━━━━━━━━━━━━━━━━━━━━━━━━━━━━━━━━\u001b[0m \u001b[32m0.0/261.2 kB\u001b[0m \u001b[31m?\u001b[0m eta \u001b[36m-:--:--\u001b[0m\r\u001b[2K     \u001b[90m━━━━━━━━━━━━━━━━━━━━━━━━━━━━━━━━━━━━━━━━\u001b[0m \u001b[32m261.2/261.2 kB\u001b[0m \u001b[31m8.6 MB/s\u001b[0m eta \u001b[36m0:00:00\u001b[0m\n",
            "\u001b[?25h  Preparing metadata (setup.py) ... \u001b[?25l\u001b[?25hdone\n",
            "Building wheels for collected packages: pyminizip\n",
            "  Building wheel for pyminizip (setup.py) ... \u001b[?25l\u001b[?25hdone\n",
            "  Created wheel for pyminizip: filename=pyminizip-0.2.6-cp310-cp310-linux_x86_64.whl size=207080 sha256=aacdd6ca239bb558c854249acd5b82976c94693a89d3ffef16ae532780e265c7\n",
            "  Stored in directory: /root/.cache/pip/wheels/ed/6c/ae/0ee601d1139f7ba48c1b572b04707f27427af5290e6fb7afb9\n",
            "Successfully built pyminizip\n",
            "Installing collected packages: pyminizip\n",
            "Successfully installed pyminizip-0.2.6\n"
          ]
        }
      ],
      "source": [
        "pip install pyminizip"
      ]
    },
    {
      "cell_type": "code",
      "source": [
        "import pyminizip\n",
        "\n",
        "inpt = \"/content/file.txt\"\n",
        "\n",
        "pref = None\n",
        "\n",
        "outp = \"/content/test.zip\"\n",
        "\n",
        "pwd = \"abc\"\n",
        "\n",
        "comp_lv = 5\n",
        "\n",
        "pyminizip.compress(inpt, None, outp, pwd, comp_lv)\n",
        "\n"
      ],
      "metadata": {
        "id": "kKFOyg-RPK7j"
      },
      "execution_count": null,
      "outputs": []
    }
  ]
}